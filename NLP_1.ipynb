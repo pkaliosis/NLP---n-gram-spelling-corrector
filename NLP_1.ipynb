{
  "nbformat": 4,
  "nbformat_minor": 0,
  "metadata": {
    "colab": {
      "provenance": [],
      "collapsed_sections": []
    },
    "kernelspec": {
      "name": "python3",
      "display_name": "Python 3"
    },
    "language_info": {
      "name": "python"
    }
  },
  "cells": [
    {
      "cell_type": "markdown",
      "source": [
        "MSc in Computer Science @AUEB - Natural Language Processing"
      ],
      "metadata": {
        "id": "UV5ndj_kuv97"
      }
    },
    {
      "cell_type": "markdown",
      "source": [
        "Assignment 1 - N-gram Language Models and Context-Aware Spelling Corrector, Panagiotis Kaliosis\n",
        ", Dimitris Mamakas"
      ],
      "metadata": {
        "id": "_9rY1Jozuyco"
      }
    },
    {
      "cell_type": "markdown",
      "source": [
        "First of all, let's install NLTK."
      ],
      "metadata": {
        "id": "lX30hv7Muy2d"
      }
    },
    {
      "cell_type": "code",
      "source": [
        "!pip install -q -U nltk\n",
        "!pip install -q transformers\n",
        "!pip3 install -q evaluate\n",
        "!pip3 install -q jiwer"
      ],
      "metadata": {
        "id": "76oHG_X3uy_k"
      },
      "execution_count": null,
      "outputs": []
    },
    {
      "cell_type": "markdown",
      "source": [
        "Importing nltk and downloading the Reuters corpus"
      ],
      "metadata": {
        "id": "zcQX3auYCJml"
      }
    },
    {
      "cell_type": "code",
      "source": [
        "import nltk\n",
        "nltk.download('reuters')\n",
        "from nltk.corpus import reuters\n",
        "nltk.download('punkt')\n",
        "from transformers import BertTokenizer\n",
        "from pprint import pprint\n",
        "from nltk import sent_tokenize\n",
        "from collections import Counter\n",
        "from nltk.util import ngrams\n",
        "import math\n",
        "from tokenizers import BertWordPieceTokenizer\n",
        "import random\n",
        "from matplotlib import pyplot as plt\n",
        "import copy\n",
        "from copy import deepcopy"
      ],
      "metadata": {
        "colab": {
          "base_uri": "https://localhost:8080/"
        },
        "id": "myniiOCO6-aF",
        "outputId": "ad43d592-7535-446d-912f-285deaf63d03"
      },
      "execution_count": null,
      "outputs": [
        {
          "output_type": "stream",
          "name": "stderr",
          "text": [
            "[nltk_data] Downloading package reuters to /root/nltk_data...\n",
            "[nltk_data]   Package reuters is already up-to-date!\n",
            "[nltk_data] Downloading package punkt to /root/nltk_data...\n",
            "[nltk_data]   Package punkt is already up-to-date!\n"
          ]
        }
      ]
    },
    {
      "cell_type": "markdown",
      "source": [
        "The Reuters corpus has already divided the docs in training and test texts. Let's set them apart and store them in two different lists."
      ],
      "metadata": {
        "id": "8GbN1CE8CXjw"
      }
    },
    {
      "cell_type": "code",
      "source": [
        "def isTest(fileid):\n",
        "    return fileid[:4]=='test'\n"
      ],
      "metadata": {
        "id": "mXLnHSwY9Mdx"
      },
      "execution_count": null,
      "outputs": []
    },
    {
      "cell_type": "code",
      "source": [
        "#Generate the train, dev and test subsets\n",
        "test_subset = [f for f in reuters.fileids() if isTest(f) == True]\n",
        "training_subset = [f for f in reuters.fileids() if isTest(f) == False]\n",
        "\n",
        "num_training_docs = math.trunc(len(training_subset) * 0.85)\n",
        "num_test_docs = math.trunc(len(test_subset) * 0.8)\n",
        "\n",
        "dev_subset = []\n",
        "dev_subset.extend(training_subset[num_training_docs:])\n",
        "dev_subset.extend(test_subset[num_test_docs:])\n",
        "\n",
        "training_subset = training_subset[:num_training_docs]\n",
        "test_subset = test_subset[:num_test_docs]\n",
        "\n"
      ],
      "metadata": {
        "id": "TX9O57ZQ-GdS"
      },
      "execution_count": null,
      "outputs": []
    },
    {
      "cell_type": "markdown",
      "source": [
        "Exploring the number of training, development and test texts, as well as the percentage of them."
      ],
      "metadata": {
        "id": "sdbM-zEUCsuE"
      }
    },
    {
      "cell_type": "code",
      "source": [
        "print(\"Training subset has: %d texts\" % len(training_subset))\n",
        "print(\"Dev subset has: %d texts\" % len(dev_subset))\n",
        "print(\"Test subset has: %d texts\" % len(test_subset))\n",
        "\n",
        "train_percentage = (len(training_subset) / (len(training_subset) + len(dev_subset) + len(test_subset))) * 100\n",
        "dev_percentage = (len(dev_subset) / (len(training_subset) + len(dev_subset) + len(test_subset))) * 100\n",
        "test_percentage = (len(test_subset) / (len(training_subset) + len(dev_subset) + len(test_subset))) * 100\n",
        "\n",
        "print('\\nTraining percentage: %.2f %s\\nDev percentage: %.2f %s\\nTest percentage: %.2f %s' % (train_percentage, '%', dev_percentage, '%', test_percentage, '%'))"
      ],
      "metadata": {
        "colab": {
          "base_uri": "https://localhost:8080/"
        },
        "id": "LwPJwsSVDBLZ",
        "outputId": "76cf0285-2431-4e14-9e0e-e7233c8b1841"
      },
      "execution_count": null,
      "outputs": [
        {
          "output_type": "stream",
          "name": "stdout",
          "text": [
            "Training subset has: 6603 texts\n",
            "Dev subset has: 1770 texts\n",
            "Test subset has: 2415 texts\n",
            "\n",
            "Training percentage: 61.21 %\n",
            "Dev percentage: 16.41 %\n",
            "Test percentage: 22.39 %\n"
          ]
        }
      ]
    },
    {
      "cell_type": "markdown",
      "source": [
        "Let's see how subword tokenization works.\n",
        "I will now tokenize the texts using the NLTK library and not the pre-tokenized sentences of the Reuters corpus."
      ],
      "metadata": {
        "id": "9EkswxA1Bq8D"
      }
    },
    {
      "cell_type": "code",
      "source": [
        "# slice the docs into sentences\n",
        "def get_raw_sentences(subset, sentences_list):\n",
        "  for f in subset:\n",
        "    sentences_list.append(sent_tokenize(reuters.raw(f)))\n",
        "  return sentences_list"
      ],
      "metadata": {
        "id": "Gr2PlDUcFd-K"
      },
      "execution_count": null,
      "outputs": []
    },
    {
      "cell_type": "code",
      "source": [
        "# define sentences lists for the three subsets \n",
        "sentences = []\n",
        "dev_sentences = []\n",
        "test_sentences = []\n",
        "\n",
        "# and call the above function\n",
        "sentences = get_raw_sentences(training_subset, sentences)\n",
        "dev_sentences = get_raw_sentences(dev_subset, dev_sentences)\n",
        "test_sentences = get_raw_sentences(test_subset, test_sentences)"
      ],
      "metadata": {
        "id": "QafUFkorx14c"
      },
      "execution_count": null,
      "outputs": []
    },
    {
      "cell_type": "markdown",
      "source": [
        "We will use the Tweet Tokenizer in order to tokenize the words from the sentences of every training text, that are contained in the sentences list."
      ],
      "metadata": {
        "id": "zq3Spvz1Koc1"
      }
    },
    {
      "cell_type": "code",
      "source": [
        "def tokenize_in_words(sentences_list, tokenizer):\n",
        "  tokenized = []\n",
        "  for sent in sentences_list:\n",
        "    for s in sent:\n",
        "      tokenized.append(tokenizer.tokenize(s))\n",
        "  return tokenized"
      ],
      "metadata": {
        "id": "-XBJvYt9FeAc"
      },
      "execution_count": null,
      "outputs": []
    },
    {
      "cell_type": "code",
      "source": [
        "from nltk import word_tokenize\n",
        "from nltk.tokenize import TweetTokenizer\n",
        "\n",
        "#Define the tokenizer\n",
        "#tokenizer = BertTokenizer.from_pretrained(\"bert-base-uncased\")\n",
        "tokenizer = TweetTokenizer()\n",
        "\n",
        "#and call the function on every subset\n",
        "tokenized = tokenize_in_words(sentences, tokenizer)\n",
        "dev_tokenized = tokenize_in_words(dev_sentences, tokenizer)\n",
        "test_tokenized = tokenize_in_words(test_sentences, tokenizer)"
      ],
      "metadata": {
        "id": "nA8xkojyzoD5"
      },
      "execution_count": null,
      "outputs": []
    },
    {
      "cell_type": "code",
      "source": [
        "def to_lower_case(subset):\n",
        "  for s in subset:\n",
        "    for i in range(0,len(s)):\n",
        "      s[i] = s[i].lower()\n",
        "  return subset"
      ],
      "metadata": {
        "id": "Kyf6WUjZv7pt"
      },
      "execution_count": null,
      "outputs": []
    },
    {
      "cell_type": "code",
      "source": [
        "tokenized = to_lower_case(tokenized)\n",
        "dev_tokenized = to_lower_case(dev_tokenized)\n",
        "test_tokenized = to_lower_case(test_tokenized)"
      ],
      "metadata": {
        "id": "qRM8kDEFwXdO"
      },
      "execution_count": null,
      "outputs": []
    },
    {
      "cell_type": "markdown",
      "source": [
        "Adding all the words of all the sentences in one list. It will be needed in order to make our lifes easier when calculating the frequency distribution."
      ],
      "metadata": {
        "id": "GFbSFnZsRtfD"
      }
    },
    {
      "cell_type": "code",
      "source": [
        "#Retrieve all the words of all the sentences\n",
        "\n",
        "tokens = [w for s in tokenized for w in s]\n",
        "dev_tokens = [w for s in dev_tokenized for w in s]\n",
        "test_tokens = [w for s in test_tokenized for w in s]\n",
        "\n",
        "\n",
        "print(\"There are %d words in the training subset\" % len(tokens))\n",
        "print(\"There are %d words in the dev subset\" % len(dev_tokens))\n",
        "print(\"There are %d words in the test subset\" % len(test_tokens))"
      ],
      "metadata": {
        "colab": {
          "base_uri": "https://localhost:8080/"
        },
        "id": "31gauHrzFeE_",
        "outputId": "1822e667-fbdb-4678-e698-f51f44c15cb5"
      },
      "execution_count": null,
      "outputs": [
        {
          "output_type": "stream",
          "name": "stdout",
          "text": [
            "There are 964098 words in the training subset\n",
            "There are 243764 words in the dev subset\n",
            "There are 346776 words in the test subset\n"
          ]
        }
      ]
    },
    {
      "cell_type": "markdown",
      "source": [
        "**Create the Vocabulary & Tokens Frequency**"
      ],
      "metadata": {
        "id": "joygqx0VSiae"
      }
    },
    {
      "cell_type": "code",
      "source": [
        "def get_vocab(words, min):\n",
        "  freqs = nltk.FreqDist(words)\n",
        "  vocab = []\n",
        "\n",
        "  for w in words:\n",
        "    if freqs[w] > min:\n",
        "      vocab.append(w)\n",
        "\n",
        "  return vocab\n"
      ],
      "metadata": {
        "id": "UvQT4hkjnjgY"
      },
      "execution_count": null,
      "outputs": []
    },
    {
      "cell_type": "code",
      "source": [
        "#set the min frequency and call the function\n",
        "min_freq = 5\n",
        "vocab = get_vocab(tokens, min_freq)\n",
        "print(len(vocab))"
      ],
      "metadata": {
        "id": "zamnx1Swo9p0",
        "colab": {
          "base_uri": "https://localhost:8080/"
        },
        "outputId": "be2bfb4c-d978-483f-fce9-5350a5c69d3b"
      },
      "execution_count": null,
      "outputs": [
        {
          "output_type": "stream",
          "name": "stdout",
          "text": [
            "912319\n"
          ]
        }
      ]
    },
    {
      "cell_type": "code",
      "source": [
        "frequency = Counter(vocab)\n",
        "for s in vocab:\n",
        "    if frequency[s] == 0:\n",
        "      print(s[i] , ' ' ,frequency[s[i]])"
      ],
      "metadata": {
        "id": "cP2ug7i7vddE"
      },
      "execution_count": null,
      "outputs": []
    },
    {
      "cell_type": "code",
      "source": [
        "def replace_OOV_with_UNK(vocab, subset, special_char):\n",
        "    frequency = Counter(vocab)\n",
        "    \n",
        "    for sent in subset:\n",
        "        for i in range(0, len(sent)):\n",
        "            if frequency[sent[i]] == 0:\n",
        "                sent[i] = special_char\n",
        "    \n",
        "    return subset\n"
      ],
      "metadata": {
        "id": "snFpAFfPVTt6"
      },
      "execution_count": null,
      "outputs": []
    },
    {
      "cell_type": "code",
      "source": [
        "#and call the method on every set\n",
        "tokenized = replace_OOV_with_UNK(vocab, tokenized, '<UNK>')\n",
        "dev_tokenized = replace_OOV_with_UNK(vocab, dev_tokenized, '<UNK>')\n",
        "test_tokenized = replace_OOV_with_UNK(vocab, test_tokenized, '<UNK>')"
      ],
      "metadata": {
        "id": "uoOtZHgwuFpQ"
      },
      "execution_count": null,
      "outputs": []
    },
    {
      "cell_type": "markdown",
      "source": [
        "**Create and count n-grams frequency (NLTK)**"
      ],
      "metadata": {
        "id": "cP6wL1LBX2ty"
      }
    },
    {
      "cell_type": "code",
      "source": [
        "unigram_counter = Counter()\n",
        "bigram_counter = Counter()\n",
        "trigram_counter = Counter()\n",
        "\n",
        "#train the n-grams on the train data\n",
        "for s in tokenized:\n",
        "    unigram_counter.update([gram for gram in ngrams(s, 1, pad_left=True, pad_right=True,\n",
        "                                                   left_pad_symbol='<s>',right_pad_symbol='<e>') ])\n",
        "    bigram_counter.update([gram for gram in ngrams(s, 2, pad_left=True, pad_right=True,\n",
        "                                                   left_pad_symbol='<start>',right_pad_symbol='<end>') ])\n",
        "    trigram_counter.update([gram for gram in ngrams(s, 3, pad_left=True, pad_right=True,\n",
        "                                                   left_pad_symbol='<start>',right_pad_symbol='<end>') ])"
      ],
      "metadata": {
        "id": "8z5ANSr5X1fj"
      },
      "execution_count": null,
      "outputs": []
    },
    {
      "cell_type": "code",
      "source": [
        "print('5 most common unigrams: ')\n",
        "pprint(unigram_counter.most_common(5))\n",
        "print('\\n5 most common bigrams: ')\n",
        "pprint(bigram_counter.most_common(5))\n",
        "print('\\n5 most common trigrams: ')\n",
        "pprint(trigram_counter.most_common(5))"
      ],
      "metadata": {
        "colab": {
          "base_uri": "https://localhost:8080/"
        },
        "id": "FJTbeWwTX2Rh",
        "outputId": "905e0e73-3347-4965-9279-25fcdd87afc8"
      },
      "execution_count": null,
      "outputs": [
        {
          "output_type": "stream",
          "name": "stdout",
          "text": [
            "5 most common unigrams: \n",
            "[(('<UNK>',), 51779),\n",
            " (('the',), 43374),\n",
            " (('.',), 40757),\n",
            " ((',',), 37832),\n",
            " (('of',), 23144)]\n",
            "\n",
            "5 most common bigrams: \n",
            "[(('.', '<end>'), 30900),\n",
            " (('<UNK>', ','), 6807),\n",
            " (('<start>', 'the'), 5614),\n",
            " (('said', '.'), 5010),\n",
            " (('of', 'the'), 4223)]\n",
            "\n",
            "5 most common trigrams: \n",
            "[(('.', '<end>', '<end>'), 30900),\n",
            " (('<start>', '<start>', 'the'), 5614),\n",
            " (('said', '.', '<end>'), 5010),\n",
            " (('.', 's', '.'), 3389),\n",
            " (('u', '.', 's'), 3384)]\n"
          ]
        }
      ]
    },
    {
      "cell_type": "markdown",
      "source": [
        "**Calculate bi-gram probability.**\n",
        "\n"
      ],
      "metadata": {
        "id": "aDEfGrG2fm8j"
      }
    },
    {
      "cell_type": "markdown",
      "source": [
        "`P(w2|w1) = (c(w1,w2) + a) / (c(w1) +|V|)`"
      ],
      "metadata": {
        "id": "rAm0_JtFgV8T"
      }
    },
    {
      "cell_type": "code",
      "source": [
        "def bigram_probability(w1, w2, alpha, V):\n",
        "  prob = (bigram_counter[(w1,w2)] + alpha) / (unigram_counter[w1,] + alpha*V)\n",
        "  return prob"
      ],
      "metadata": {
        "id": "AHIDoaXwfmaP"
      },
      "execution_count": null,
      "outputs": []
    },
    {
      "cell_type": "code",
      "source": [
        "#check how the bi-gram probability works on a given bi-gram\n",
        "probability = bigram_probability('<start>', 'The', 1, len(set(tokens)))\n",
        "print(probability)"
      ],
      "metadata": {
        "colab": {
          "base_uri": "https://localhost:8080/"
        },
        "id": "Jn7LEy_nfmc9",
        "outputId": "eecc4d7b-3e32-4e0c-f86e-98269e02e40d"
      },
      "execution_count": null,
      "outputs": [
        {
          "output_type": "stream",
          "name": "stdout",
          "text": [
            "2.617115938236064e-05\n"
          ]
        }
      ]
    },
    {
      "cell_type": "markdown",
      "source": [
        "**Calculate tri-gram probability.**\n"
      ],
      "metadata": {
        "id": "CSHUW9henGOh"
      }
    },
    {
      "cell_type": "markdown",
      "source": [
        "`P(w3|w1, w2) = (c(w1,w2,w3) + a) / (c(w1,w2) +|V|)`\n",
        "\n",
        "\n",
        "\n",
        "\n"
      ],
      "metadata": {
        "id": "8yLDxrvcnJpL"
      }
    },
    {
      "cell_type": "code",
      "source": [
        "def trigram_probability(w1, w2, w3, alpha, V):\n",
        "  prob = (trigram_counter[(w1,w2,w3)] + alpha) / (bigram_counter[w1,w2] + alpha*V)\n",
        "  return prob"
      ],
      "metadata": {
        "id": "4OUJP7eGfmeo"
      },
      "execution_count": null,
      "outputs": []
    },
    {
      "cell_type": "code",
      "source": [
        "#check how the tri-gram probability works on a given tri-gram\n",
        "probability = trigram_probability('the', 'company', 'said', 0.1, len(set(tokens)))\n",
        "print(probability)"
      ],
      "metadata": {
        "colab": {
          "base_uri": "https://localhost:8080/"
        },
        "id": "zF2ICf7EnF-b",
        "outputId": "e3b4aaad-3951-454b-f1ff-353ac56a2255"
      },
      "execution_count": null,
      "outputs": [
        {
          "output_type": "stream",
          "name": "stdout",
          "text": [
            "0.13059619604974396\n"
          ]
        }
      ]
    },
    {
      "cell_type": "markdown",
      "source": [
        "**Calculate the bi-gram  LM Cross Entropy and Perplexity.**"
      ],
      "metadata": {
        "id": "-gr9viK9pblB"
      }
    },
    {
      "cell_type": "markdown",
      "source": [
        "`Cross Entropy = -1/N Σ_bigrams log2(P(w2|w1)`"
      ],
      "metadata": {
        "id": "9-eTWlt8pMK7"
      }
    },
    {
      "cell_type": "code",
      "source": [
        "def bigram_calculate_HC(test_tokenized_list, alpha, test_vocab_size):\n",
        "\n",
        "  sum_log_probs = 0\n",
        "  count_bigrams = 0\n",
        "\n",
        "  for s in test_tokenized_list:\n",
        "    s = ['<start>'] + s + ['<end>']\n",
        "\n",
        "    for idx in range(1, len(s)):\n",
        "      bigram_prob = bigram_probability(s[idx-1], s[idx], alpha, test_vocab_size)\n",
        "      sum_log_probs += math.log2(bigram_prob)\n",
        "      count_bigrams += 1\n",
        "\n",
        "  HC = - (sum_log_probs / count_bigrams)\n",
        "  return HC"
      ],
      "metadata": {
        "id": "xjEWAv8FpaHi"
      },
      "execution_count": null,
      "outputs": []
    },
    {
      "cell_type": "code",
      "source": [
        "V = len(set(vocab))\n",
        "bigram_HCs = []\n",
        "bigram_perplexities = []\n",
        "alphas= []\n",
        "\n",
        "for i in range(40):\n",
        "  alphas.append(0.025 * (i+1))\n",
        "  bigram_HCs.append(bigram_calculate_HC(dev_tokenized, alphas[i], V))\n",
        "  bigram_perplexities.append(math.pow(2, bigram_HCs[i]))\n",
        "\n",
        "min_HC = min(bigram_HCs)\n",
        "min_HC_index = bigram_HCs.index(min_HC)\n",
        "\n",
        "min_perplexity = min(bigram_perplexities)\n",
        "min_perplexity_index = bigram_perplexities.index(min_perplexity)\n",
        "\n",
        "bigram_best_alpha = alphas[min_HC_index]\n"
      ],
      "metadata": {
        "id": "wCsX7QQG4MVJ"
      },
      "execution_count": null,
      "outputs": []
    },
    {
      "cell_type": "markdown",
      "source": [
        "**Calculate the tri-gram LM cross entropy and perplexity.**"
      ],
      "metadata": {
        "id": "p0I4oEiz_Io9"
      }
    },
    {
      "cell_type": "code",
      "source": [
        "def trigram_calculate_HC(test_tokenized_list, alpha, test_vocab_size):\n",
        "\n",
        "  sum_log_probs = 0\n",
        "  count_trigrams = 0\n",
        "\n",
        "  for s in test_tokenized_list:\n",
        "    s = ['<start>'] + ['<start>'] + s + ['<end>'] + ['<end']\n",
        "\n",
        "    for idx in range(2, len(s)-1):\n",
        "      trigram_prob = trigram_probability(s[idx-2], s[idx-1], s[idx], alpha, test_vocab_size)\n",
        "      sum_log_probs += math.log2(trigram_prob)\n",
        "      count_trigrams += 1\n",
        "\n",
        "  HC = - (sum_log_probs / count_trigrams)\n",
        "  return HC"
      ],
      "metadata": {
        "id": "BqmIho8x_Z8P"
      },
      "execution_count": null,
      "outputs": []
    },
    {
      "cell_type": "code",
      "source": [
        "#calculate the vocabulary length\n",
        "V = len(set(vocab))\n",
        "\n",
        "trigram_HCs = []\n",
        "trigram_perplexities = []\n",
        "alphas = []\n",
        "\n",
        "#calculate the HC and Perplexity metrics for the trigram model\n",
        "for i in range(40):\n",
        "  alphas.append(0.025 * (i+1))\n",
        "  trigram_HCs.append(trigram_calculate_HC(dev_tokenized, alphas[i], V))\n",
        "  trigram_perplexities.append(math.pow(2, trigram_HCs[i]))\n",
        "\n",
        "min_HC = min(trigram_HCs)\n",
        "min_HC_index = trigram_HCs.index(min_HC)\n",
        "\n",
        "min_perplexity = min(trigram_perplexities)\n",
        "min_perplexity_index = trigram_perplexities.index(min_perplexity)\n",
        "\n",
        "trigram_best_alpha = alphas[min_HC_index]\n",
        "\n"
      ],
      "metadata": {
        "id": "w3u_JIKBAHKC"
      },
      "execution_count": null,
      "outputs": []
    },
    {
      "cell_type": "code",
      "source": [
        "def create_plot(model_perplexity, title):\n",
        "\n",
        "  fig, axs = plt.subplots(1, 1,figsize=(13,10))\n",
        "  best_alphas = []\n",
        "\n",
        "  ymin = min(model_perplexity)\n",
        "  xpos = model_perplexity.index(ymin)\n",
        "  xmin = alphas[xpos]    \n",
        "  best_alphas.append(xmin)\n",
        "\n",
        "  axs.title.set_text('%s for different alpha values' % title)\n",
        "  axs.scatter(alphas,model_perplexity,s=20)\n",
        "  axs.scatter(xmin,ymin,s=200,marker='+',c='r')\n",
        "  axs.set_xlabel(\"alpha\")\n",
        "  axs.legend(['','Minimum perplexity for a='+str(round(xmin,4))])\n",
        "  axs.set_ylabel(\"Perplexity\")\n",
        "\n",
        "  plt.show()"
      ],
      "metadata": {
        "id": "fkIjgpdrBoR2"
      },
      "execution_count": null,
      "outputs": []
    },
    {
      "cell_type": "code",
      "source": [
        "create_plot(bigram_perplexities, 'Bigram Perplexity')\n",
        "create_plot(trigram_perplexities, 'Trigram Perplexity')"
      ],
      "metadata": {
        "colab": {
          "base_uri": "https://localhost:8080/",
          "height": 1000
        },
        "id": "P2I_0ggmBoUc",
        "outputId": "d60fcace-a814-4305-e68b-479649660d9f"
      },
      "execution_count": null,
      "outputs": [
        {
          "output_type": "display_data",
          "data": {
            "text/plain": [
              "<Figure size 936x720 with 1 Axes>"
            ],
            "image/png": "[encoded data removed]"
          },
          "metadata": {
            "needs_background": "light"
          }
        },
        {
          "output_type": "display_data",
          "data": {
            "text/plain": [
              "<Figure size 936x720 with 1 Axes>"
            ],
            "image/png": "[encoded data removed]"
          },
          "metadata": {
            "needs_background": "light"
          }
        }
      ]
    },
    {
      "cell_type": "code",
      "source": [
        "# so best alpha = 0.025 for both models\n",
        "# let's check the best cross-entropy and perplexity value on the test data\n",
        "\n",
        "best_bigram_cross_entropy = bigram_calculate_HC(dev_tokenized, bigram_best_alpha, V)\n",
        "best_trigram_cross_entropy = trigram_calculate_HC(dev_tokenized, trigram_best_alpha, V)\n",
        "\n",
        "best_bigram_perplexity = math.pow(2, best_bigram_cross_entropy)\n",
        "best_trigram_perplexity = math.pow(2, best_trigram_cross_entropy)\n",
        "\n",
        "print(\"Best Bigram Cross Entropy in Dev data: {0:.3f}\".format(best_bigram_cross_entropy))\n",
        "print(\"Best perplexity in Dev data: {0:.3f}\".format(best_bigram_perplexity))\n",
        "print(\"Bigram best Alpha = {0:.3f}\".format(bigram_best_alpha))\n",
        "\n",
        "print(\"\\nBest Trigram Cross Entropy in Dev data: {0:.3f}\".format(best_trigram_cross_entropy))\n",
        "print(\"Best perplexity in Dev data: {0:.3f}\".format(best_trigram_perplexity))\n",
        "print(\"Trigram best Alpha = {0:.3f}\".format(trigram_best_alpha))"
      ],
      "metadata": {
        "colab": {
          "base_uri": "https://localhost:8080/"
        },
        "id": "X9FQgu9NBoW1",
        "outputId": "361d458f-4399-409f-82ef-5ed7e9883cca"
      },
      "execution_count": null,
      "outputs": [
        {
          "output_type": "stream",
          "name": "stdout",
          "text": [
            "Best Bigram Cross Entropy in Dev data: 6.818\n",
            "Best perplexity in Dev data: 112.791\n",
            "Bigram best Alpha = 0.025\n",
            "\n",
            "Best Trigram Cross Entropy in Dev data: 8.472\n",
            "Best perplexity in Dev data: 355.144\n",
            "Trigram best Alpha = 0.025\n"
          ]
        }
      ]
    },
    {
      "cell_type": "markdown",
      "source": [
        "**Beam Seach Decoder**"
      ],
      "metadata": {
        "id": "bnXG-QYEh5BO"
      }
    },
    {
      "cell_type": "markdown",
      "source": [
        "We search for a path from start to a state of column k that minimizes `Lk = -λ1*logP(t1k) -λ2*log(Pw1k|t1k)`"
      ],
      "metadata": {
        "id": "TeSN68qDWAv1"
      }
    },
    {
      "cell_type": "code",
      "source": [
        "from nltk.metrics.distance import edit_distance_align"
      ],
      "metadata": {
        "id": "96bBg6EvYt9m"
      },
      "execution_count": null,
      "outputs": []
    },
    {
      "cell_type": "code",
      "source": [
        "# function used in order to present the beam search decoder's result in a nicer way\n",
        "def present_answer(response):\n",
        "  response.pop(0)\n",
        "  estimated_str = ''\n",
        "  for item in response:\n",
        "    estimated_str += item + ' '\n",
        "  return estimated_str"
      ],
      "metadata": {
        "id": "-sIGZUVumn7g"
      },
      "execution_count": null,
      "outputs": []
    },
    {
      "cell_type": "code",
      "source": [
        "import itertools\n",
        "from nltk.tokenize import WhitespaceTokenizer\n",
        "\n",
        "tokenizer2 = WhitespaceTokenizer()\n",
        "\n",
        "def beam_search_decoder(word_seq, vocab, alpha, V, BEAM_WIDTH, lamda1, lamda2):\n",
        "  # word_seq = observed sequence\n",
        "  # vocab = the LM's vocabulary\n",
        "  # alpha = the parameter for the add-a smoothing\n",
        "  # V = vocabulary size\n",
        "  # BEAM_WIDTH = beam search decoder's search width\n",
        "  # lamda1, lamda2 = hyperparameters used to weight the significance of P(t) and P(w_i | t_i) \n",
        "  # we search for a path from <start> to a state of column k = len(observed_sequence) that minimizes the L_k = - λ1 * log(P(t_1k)) - λ2 * P(w_1k | t_1k)\n",
        "\n",
        "  word_seq = '<start>' + word_seq # add the special token in the start of the observed sequence\n",
        "  word_seq = tokenizer.tokenize(word_seq) # tokenize the observed sequence\n",
        "\n",
        "  prob_observed, edit_distance = 1, 1 \n",
        "\n",
        "  #if len(word_seq) > BEAM_WIDTH:\n",
        "    #BEAM_WIDTH = len(word_seq) + 1\n",
        "\n",
        "\n",
        "  cand_seqs = [['<start>']] * BEAM_WIDTH # cand_seqs stores the most probable sequences in each beam step\n",
        "  dictionary = {}\n",
        "  cand_seqs2 = cand_seqs\n",
        "\n",
        "  for i in range(1, len(word_seq)): # parsing through the observed sequence\n",
        "    for j in range(0, len(cand_seqs)): # for each canditate sequence...\n",
        "      for k in range(V): # ...we check every vocabulary word\n",
        "\n",
        "        prob_observed = 1 # P(t_ik)\n",
        "        edit_distance = 1 # P(w_i | t_i)\n",
        "        log_sum = 0 #Lk\n",
        "\n",
        "        if i == 1: # we only take into account the bigrams (<start>, vocab[k])\n",
        "          prob_observed = bigram_probability(cand_seqs2[j][i-1], vocab[k], alpha, V)\n",
        "          edit_distance = 1 / ((nltk.edit_distance(word_seq[i], vocab[k]) + 0.01) / max(len(word_seq[i]), len(vocab[k]))) # inverse levenshtein distance, adding 0.01 in order to avoid division by zero in case the two words are the same word\n",
        "\n",
        "        if i != 1:\n",
        "\n",
        "          for l in range(1, i): # we now take into account all the previous bigrams of the candidate sequence and of course all the potential newly added bigrams\n",
        "\n",
        "            if l != i-1: # calculating probability of previous bigrams of the candidate sequence\n",
        "              prob_observed *= bigram_probability(cand_seqs2[j][l-1], cand_seqs2[j][l], alpha, V)\n",
        "              edit_distance *= 1 / ((nltk.edit_distance(word_seq[l], cand_seqs2[j][l]) + 0.01) / max(len(word_seq[l]), len(cand_seqs2[j][l])))\n",
        "\n",
        "            else: # calculating probability of all the new potential bigrams\n",
        "              prob_observed *= bigram_probability(cand_seqs2[j][l], vocab[k], alpha, V)\n",
        "              edit_distance *=  1 / ((nltk.edit_distance(word_seq[i], vocab[k]) + 0.01) / max(len(word_seq[i]), len(vocab[k])))\n",
        "\n",
        "        log_sum += - lamda1 * math.log2(prob_observed) - lamda2 * math.log2(edit_distance) # calculating Lk\n",
        "        dictionary[str(cand_seqs[j]) + ' ' + vocab[k]] = log_sum # storing all the new possible sequences in the dictionary\n",
        "\n",
        "    dictionary = dict(sorted(dictionary.items(), key=lambda item: item[1])) # sorting the dictionary on  dict.values() aka the probability of each sequence\n",
        "    cand_seqs = list(dictionary.keys())[:BEAM_WIDTH] # storing in candidate sequences the BEAM_WIDTH more probable candidate sequences\n",
        "\n",
        "    for i in range(len(cand_seqs)):\n",
        "      cand_seqs2[i] = cand_seqs[i].split(\" \") #data structure handling, tokenizing the candidate sequences in order to function properly\n",
        "\n",
        "    print('CANDIDATE SEQUENCES: ', cand_seqs2)\n",
        "\n",
        "    if i != (len(word_seq)-1):\n",
        "      dictionary = {} # clearing the dictionary after each iteration on the observed word sequence\n",
        "      \n",
        "  return cand_seqs2[0] # returning the most probable candidate sequence after all the iterations are over\n"
      ],
      "metadata": {
        "id": "6E3VGJLwTS_Z"
      },
      "execution_count": null,
      "outputs": []
    },
    {
      "cell_type": "code",
      "source": [
        "# function that retrieves all the distinct characters from the given input \n",
        "def get_distinct_chars(test_sents):\n",
        "\n",
        "  unique_characters = []\n",
        "\n",
        "  letters = []\n",
        "  symbols = []\n",
        "\n",
        "  for sentence in test_sents:\n",
        "    for word in sentence:\n",
        "      for character in word:\n",
        "        if character not in unique_characters:\n",
        "            unique_characters.append(character)\n",
        "\n",
        "  unique_characters.sort()\n",
        "\n",
        "  for c in unique_characters:\n",
        "    if c.isalpha() == True:\n",
        "      letters.append(c.lower())\n",
        "    else:\n",
        "      symbols.append(c)\n",
        "\n",
        "  return letters, symbols"
      ],
      "metadata": {
        "id": "9-ekb48JipMH"
      },
      "execution_count": null,
      "outputs": []
    },
    {
      "cell_type": "code",
      "source": [
        "test_letters_unique, test_symbols_unique = get_distinct_chars(test_tokenized)\n",
        "print(test_letters_unique)\n",
        "print(test_symbols_unique)"
      ],
      "metadata": {
        "colab": {
          "base_uri": "https://localhost:8080/"
        },
        "id": "7E2CJpEskY3f",
        "outputId": "bc3535b1-e7ea-4ba5-ec95-a212117b83d5"
      },
      "execution_count": null,
      "outputs": [
        {
          "output_type": "stream",
          "name": "stdout",
          "text": [
            "['k', 'n', 'u', 'a', 'b', 'c', 'd', 'e', 'f', 'g', 'h', 'i', 'j', 'k', 'l', 'm', 'n', 'o', 'p', 'q', 'r', 's', 't', 'u', 'v', 'w', 'x', 'y', 'z']\n",
            "['\"', '&', \"'\", '(', ')', ',', '-', '.', '/', '0', '1', '2', '3', '4', '5', '6', '7', '8', '9', ':', ';', '<', '>', '?', '^']\n"
          ]
        }
      ]
    },
    {
      "cell_type": "code",
      "source": [
        "def roll_a_dice(prob):\n",
        "\n",
        "  rand = random.random()\n",
        "\n",
        "  if rand <= prob:\n",
        "    return True\n",
        "  else:\n",
        "    return False\n"
      ],
      "metadata": {
        "id": "t3Mcw_20mLbZ"
      },
      "execution_count": null,
      "outputs": []
    },
    {
      "cell_type": "code",
      "source": [
        "# first of all, let's try to replace each non-space character with another random one\n",
        "def replace_with_similar(test_sents, letters, symbols, prob):\n",
        "  \n",
        "  for i in range(len(test_sents)):\n",
        "    for j in range(len(test_sents[i])):\n",
        "      for k in range(len(test_sents[i][j])):\n",
        "\n",
        "        if roll_a_dice(prob) ==  True:\n",
        "\n",
        "          if test_sents[i][j].isalpha() ==  True:\n",
        "            test_sents[i][j] = test_sents[i][j].replace(test_sents[i][j][k], random.choice(letters))\n",
        "            \n",
        "          else:\n",
        "            test_sents[i][j] = test_sents[i][j].replace(test_sents[i][j][k], random.choice(symbols))\n",
        "\n",
        "  return test_sents"
      ],
      "metadata": {
        "id": "ZXJ0dHlSj1Xb"
      },
      "execution_count": null,
      "outputs": []
    },
    {
      "cell_type": "markdown",
      "source": [
        "**Evaluation  in terms of Word Error Rate (WER) and Character Error Rate (CER)**"
      ],
      "metadata": {
        "id": "ijgyO6Vglvqd"
      }
    },
    {
      "cell_type": "code",
      "source": [
        "from evaluate import load\n",
        "wer = load(\"wer\")\n",
        "cer = load(\"cer\")"
      ],
      "metadata": {
        "id": "Wqs-J3R0lugR"
      },
      "execution_count": null,
      "outputs": []
    },
    {
      "cell_type": "code",
      "source": [
        "def find_small_sentences(sent_list, wrong_sent_list):\n",
        "\n",
        "  small_sents = []\n",
        "  wrong_sents = []\n",
        "  c = 0\n",
        "\n",
        "  for i in range(len(sent_list)):\n",
        "\n",
        "    if len(sent_list[i]) <= 9 & len(sent_list[i]) > 5:\n",
        "      small_sents.append(sent_list[i])\n",
        "      wrong_sents.append(wrong_sent_list[i])\n",
        "      c += 1\n",
        "\n",
        "    if c == 5:\n",
        "      break\n",
        "\n",
        "  return small_sents, wrong_sents"
      ],
      "metadata": {
        "id": "qX8NXYmfnL7r"
      },
      "execution_count": null,
      "outputs": []
    },
    {
      "cell_type": "code",
      "source": [
        "test_tokenized_errors = copy.deepcopy(test_tokenized)\n",
        "test_tokenized_errors = replace_with_similar(test_tokenized_errors, test_letters_unique, test_symbols_unique, 0.08)\n",
        "references, to_predict = find_small_sentences(test_tokenized, test_tokenized_errors)"
      ],
      "metadata": {
        "id": "z5-AgwqZzN22"
      },
      "execution_count": null,
      "outputs": []
    },
    {
      "cell_type": "code",
      "source": [
        "#wrongs = replace_with_similar(small_sents, test_letters_unique, test_symbols_unique, 0.08)"
      ],
      "metadata": {
        "id": "6vhV3YgWo7cp"
      },
      "execution_count": null,
      "outputs": []
    },
    {
      "cell_type": "code",
      "source": [
        "print(references)"
      ],
      "metadata": {
        "colab": {
          "base_uri": "https://localhost:8080/"
        },
        "id": "F7YMGAOjug9Q",
        "outputId": "6d5492a0-dd03-40d2-a776-bf77158b56c5"
      },
      "execution_count": null,
      "outputs": [
        {
          "output_type": "stream",
          "name": "stdout",
          "text": [
            "[['annual', 'ore', 'capacity', 'will', 'be', 'about', '750,000', 'tonnes', '.'], ['the', 'analysts', 'agreed', 'the', 'bank', 'was', 'aggressive', '.'], [\"that's\", 'the', 'kind', 'of', 'deregulation', 'we', 'want', '.', '\"'], ['\"', 'we', \"don't\", 'want', 'to', 'make', '<UNK>', '.'], ['suppliers', 'and', 'remove', 'quotas', 'on', 'u', '.', 's', '.']]\n"
          ]
        }
      ]
    },
    {
      "cell_type": "code",
      "source": [
        "print(to_predict)"
      ],
      "metadata": {
        "colab": {
          "base_uri": "https://localhost:8080/"
        },
        "id": "bjUWUz5dujbQ",
        "outputId": "765c5348-1a59-4fce-a4be-96d84f928bfc"
      },
      "execution_count": null,
      "outputs": [
        {
          "output_type": "stream",
          "name": "stdout",
          "text": [
            "[['annual', 'ore', 'capacitc', 'will', 'be', 'aboug', '75(,(((', 'tonnes', '.'], ['ahe', 'analysts', 'agreed', 'txe', 'bank', 'was', 'aggressive', '.'], [\"that's\", 'the', 'kind', 'of', 'deregulatuon', 'we', 'want', '.', '\"'], ['\"', 'we', \"don't\", 'want', 'to', 'mabe', '<UNK>', '.'], ['suuuliers', 'and', 'rnmovn', 'quotas', 'on', 'u', '.', 's', '.']]\n"
          ]
        }
      ]
    },
    {
      "cell_type": "code",
      "source": [
        "# generate the predictions using the beam search decoder\n",
        "predictions = []\n",
        "for i in range(len(references)):\n",
        "  predictions.append(beam_search_decoder(' '.join(to_predict[i]), vocab, bigram_best_alpha, V, 5, 0.1, 0.9))\n",
        "for pred in predictions:\n",
        "  pred.pop(0)"
      ],
      "metadata": {
        "id": "qQlLWPk6rfBY",
        "colab": {
          "base_uri": "https://localhost:8080/"
        },
        "outputId": "43fe818e-7a58-40d6-83b0-59f1565ffaaf"
      },
      "execution_count": null,
      "outputs": [
        {
          "output_type": "stream",
          "name": "stdout",
          "text": [
            "CANDIDATE SEQUENCES:  [[\"['<start>']\", 'annual'], [\"['<start>']\", 'general'], [\"['<start>']\", 'final'], [\"['<start>']\", 'the'], [\"['<start>']\", 'in']]\n",
            "CANDIDATE SEQUENCES:  [[\"['<start>']\", 'final', 'ore'], [\"['<start>']\", 'annual', 'ore'], [\"['<start>']\", 'general', 'ore'], [\"['<start>']\", 'in', 'ore'], [\"['<start>']\", 'the', 'ore']]\n",
            "CANDIDATE SEQUENCES:  [[\"['<start>']\", 'annual', 'ore', 'imports'], [\"['<start>']\", 'annual', 'ore', 'deposits'], [\"['<start>']\", 'annual', 'ore', 'japan'], [\"['<start>']\", 'annual', 'ore', 'and'], [\"['<start>']\", 'annual', 'ore', 'exports']]\n",
            "CANDIDATE SEQUENCES:  [[\"['<start>']\", 'annual', 'ore', 'japan', 'will'], [\"['<start>']\", 'annual', 'ore', 'exports', 'will'], [\"['<start>']\", 'annual', 'ore', 'imports', 'will'], [\"['<start>']\", 'annual', 'ore', 'and', 'will'], [\"['<start>']\", 'annual', 'ore', 'deposits', 'will']]\n",
            "CANDIDATE SEQUENCES:  [[\"['<start>']\", 'annual', 'ore', 'imports', 'will', 'be'], [\"['<start>']\", 'annual', 'ore', 'japan', 'will', 'be'], [\"['<start>']\", 'annual', 'ore', 'deposits', 'will', 'be'], [\"['<start>']\", 'annual', 'ore', 'and', 'will', 'be'], [\"['<start>']\", 'annual', 'ore', 'exports', 'will', 'be']]\n",
            "CANDIDATE SEQUENCES:  [[\"['<start>']\", 'annual', 'ore', 'japan', 'will', 'be', 'about'], [\"['<start>']\", 'annual', 'ore', 'imports', 'will', 'be', 'about'], [\"['<start>']\", 'annual', 'ore', 'exports', 'will', 'be', 'about'], [\"['<start>']\", 'annual', 'ore', 'and', 'will', 'be', 'about'], [\"['<start>']\", 'annual', 'ore', 'deposits', 'will', 'be', 'about']]\n",
            "CANDIDATE SEQUENCES:  [[\"['<start>']\", 'annual', 'ore', 'japan', 'will', 'be', 'about', '75'], [\"['<start>']\", 'annual', 'ore', 'imports', 'will', 'be', 'about', '75'], [\"['<start>']\", 'annual', 'ore', 'exports', 'will', 'be', 'about', '75'], [\"['<start>']\", 'annual', 'ore', 'and', 'will', 'be', 'about', '75'], [\"['<start>']\", 'annual', 'ore', 'deposits', 'will', 'be', 'about', '75']]\n",
            "CANDIDATE SEQUENCES:  [[\"['<start>']\", 'annual', 'ore', 'japan', 'will', 'be', 'about', '75', '('], [\"['<start>']\", 'annual', 'ore', 'imports', 'will', 'be', 'about', '75', '('], [\"['<start>']\", 'annual', 'ore', 'exports', 'will', 'be', 'about', '75', '('], [\"['<start>']\", 'annual', 'ore', 'and', 'will', 'be', 'about', '75', '('], [\"['<start>']\", 'annual', 'ore', 'deposits', 'will', 'be', 'about', '75', '(']]\n",
            "CANDIDATE SEQUENCES:  [[\"['<start>']\", 'annual', 'ore', 'japan', 'will', 'be', 'about', '75', '(', ','], [\"['<start>']\", 'annual', 'ore', 'imports', 'will', 'be', 'about', '75', '(', ','], [\"['<start>']\", 'annual', 'ore', 'exports', 'will', 'be', 'about', '75', '(', ','], [\"['<start>']\", 'annual', 'ore', 'and', 'will', 'be', 'about', '75', '(', ','], [\"['<start>']\", 'annual', 'ore', 'deposits', 'will', 'be', 'about', '75', '(', ',']]\n",
            "CANDIDATE SEQUENCES:  [[\"['<start>']\", 'annual', 'ore', 'japan', 'will', 'be', 'about', '75', '(', ',', '('], [\"['<start>']\", 'annual', 'ore', 'imports', 'will', 'be', 'about', '75', '(', ',', '('], [\"['<start>']\", 'annual', 'ore', 'exports', 'will', 'be', 'about', '75', '(', ',', '('], [\"['<start>']\", 'annual', 'ore', 'and', 'will', 'be', 'about', '75', '(', ',', '('], [\"['<start>']\", 'annual', 'ore', 'deposits', 'will', 'be', 'about', '75', '(', ',', '(']]\n",
            "CANDIDATE SEQUENCES:  [[\"['<start>']\", 'annual', 'ore', 'japan', 'will', 'be', 'about', '75', '(', ',', '(', '('], [\"['<start>']\", 'annual', 'ore', 'imports', 'will', 'be', 'about', '75', '(', ',', '(', '('], [\"['<start>']\", 'annual', 'ore', 'exports', 'will', 'be', 'about', '75', '(', ',', '(', '('], [\"['<start>']\", 'annual', 'ore', 'and', 'will', 'be', 'about', '75', '(', ',', '(', '('], [\"['<start>']\", 'annual', 'ore', 'deposits', 'will', 'be', 'about', '75', '(', ',', '(', '(']]\n",
            "CANDIDATE SEQUENCES:  [[\"['<start>']\", 'annual', 'ore', 'japan', 'will', 'be', 'about', '75', '(', ',', '(', '(', '('], [\"['<start>']\", 'annual', 'ore', 'imports', 'will', 'be', 'about', '75', '(', ',', '(', '(', '('], [\"['<start>']\", 'annual', 'ore', 'exports', 'will', 'be', 'about', '75', '(', ',', '(', '(', '('], [\"['<start>']\", 'annual', 'ore', 'and', 'will', 'be', 'about', '75', '(', ',', '(', '(', '('], [\"['<start>']\", 'annual', 'ore', 'deposits', 'will', 'be', 'about', '75', '(', ',', '(', '(', '(']]\n",
            "CANDIDATE SEQUENCES:  [[\"['<start>']\", 'annual', 'ore', 'japan', 'will', 'be', 'about', '75', '(', ',', '(', '(', '(', 'tonnes'], [\"['<start>']\", 'annual', 'ore', 'imports', 'will', 'be', 'about', '75', '(', ',', '(', '(', '(', 'tonnes'], [\"['<start>']\", 'annual', 'ore', 'exports', 'will', 'be', 'about', '75', '(', ',', '(', '(', '(', 'tonnes'], [\"['<start>']\", 'annual', 'ore', 'and', 'will', 'be', 'about', '75', '(', ',', '(', '(', '(', 'tonnes'], [\"['<start>']\", 'annual', 'ore', 'deposits', 'will', 'be', 'about', '75', '(', ',', '(', '(', '(', 'tonnes']]\n",
            "CANDIDATE SEQUENCES:  [[\"['<start>']\", 'annual', 'ore', 'japan', 'will', 'be', 'about', '75', '(', ',', '(', '(', '(', 'tonnes', '.'], [\"['<start>']\", 'annual', 'ore', 'imports', 'will', 'be', 'about', '75', '(', ',', '(', '(', '(', 'tonnes', '.'], [\"['<start>']\", 'annual', 'ore', 'exports', 'will', 'be', 'about', '75', '(', ',', '(', '(', '(', 'tonnes', '.'], [\"['<start>']\", 'annual', 'ore', 'and', 'will', 'be', 'about', '75', '(', ',', '(', '(', '(', 'tonnes', '.'], [\"['<start>']\", 'annual', 'ore', 'deposits', 'will', 'be', 'about', '75', '(', ',', '(', '(', '(', 'tonnes', '.']]\n",
            "CANDIDATE SEQUENCES:  [[\"['<start>']\", 'the'], [\"['<start>']\", 'he'], [\"['<start>']\", 'she'], [\"['<start>']\", 'they'], [\"['<start>']\", 'a']]\n",
            "CANDIDATE SEQUENCES:  [[\"['<start>']\", 'the', 'analysts'], [\"['<start>']\", 'she', 'analysts'], [\"['<start>']\", 'they', 'analysts'], [\"['<start>']\", 'he', 'analysts'], [\"['<start>']\", 'a', 'analysts']]\n",
            "CANDIDATE SEQUENCES:  [[\"['<start>']\", 'the', 'analysts', 'agreed'], [\"['<start>']\", 'she', 'analysts', 'agreed'], [\"['<start>']\", 'he', 'analysts', 'agreed'], [\"['<start>']\", 'they', 'analysts', 'agreed'], [\"['<start>']\", 'a', 'analysts', 'agreed']]\n",
            "CANDIDATE SEQUENCES:  [[\"['<start>']\", 'the', 'analysts', 'agreed', 'the'], [\"['<start>']\", 'the', 'analysts', 'agreed', 'to'], [\"['<start>']\", 'she', 'analysts', 'agreed', 'the'], [\"['<start>']\", 'she', 'analysts', 'agreed', 'to'], [\"['<start>']\", 'he', 'analysts', 'agreed', 'the']]\n",
            "CANDIDATE SEQUENCES:  [[\"['<start>']\", 'the', 'analysts', 'agreed', 'the', 'bank'], [\"['<start>']\", 'she', 'analysts', 'agreed', 'the', 'bank'], [\"['<start>']\", 'the', 'analysts', 'agreed', 'to', 'bank'], [\"['<start>']\", 'he', 'analysts', 'agreed', 'the', 'bank'], [\"['<start>']\", 'she', 'analysts', 'agreed', 'to', 'bank']]\n",
            "CANDIDATE SEQUENCES:  [[\"['<start>']\", 'the', 'analysts', 'agreed', 'the', 'bank', 'was'], [\"['<start>']\", 'the', 'analysts', 'agreed', 'to', 'bank', 'was'], [\"['<start>']\", 'she', 'analysts', 'agreed', 'the', 'bank', 'was'], [\"['<start>']\", 'she', 'analysts', 'agreed', 'to', 'bank', 'was'], [\"['<start>']\", 'he', 'analysts', 'agreed', 'the', 'bank', 'was']]\n",
            "CANDIDATE SEQUENCES:  [[\"['<start>']\", 'the', 'analysts', 'agreed', 'the', 'bank', 'was', 'progressive'], [\"['<start>']\", 'the', 'analysts', 'agreed', 'the', 'bank', 'was', 'agreed'], [\"['<start>']\", 'the', 'analysts', 'agreed', 'the', 'bank', 'was', 'attractive'], [\"['<start>']\", 'the', 'analysts', 'agreed', 'the', 'bank', 'was', 'pressure'], [\"['<start>']\", 'the', 'analysts', 'agreed', 'the', 'bank', 'was', 'also']]\n",
            "CANDIDATE SEQUENCES:  [[\"['<start>']\", 'the', 'analysts', 'agreed', 'the', 'bank', 'was', 'attractive', '.'], [\"['<start>']\", 'the', 'analysts', 'agreed', 'the', 'bank', 'was', 'pressure', '.'], [\"['<start>']\", 'the', 'analysts', 'agreed', 'the', 'bank', 'was', 'agreed', '.'], [\"['<start>']\", 'the', 'analysts', 'agreed', 'the', 'bank', 'was', 'also', '.'], [\"['<start>']\", 'the', 'analysts', 'agreed', 'the', 'bank', 'was', 'progressive', '.']]\n",
            "CANDIDATE SEQUENCES:  [[\"['<start>']\", 'that'], [\"['<start>']\", 'the'], [\"['<start>']\", 'this'], [\"['<start>']\", \"it's\"], [\"['<start>']\", 'they']]\n",
            "CANDIDATE SEQUENCES:  [[\"['<start>']\", 'that', 'the'], [\"['<start>']\", \"it's\", 'the'], [\"['<start>']\", 'the', 'the'], [\"['<start>']\", 'they', 'the'], [\"['<start>']\", 'this', 'the']]\n",
            "CANDIDATE SEQUENCES:  [[\"['<start>']\", 'that', 'the', 'king'], [\"['<start>']\", 'that', 'the', 'end'], [\"['<start>']\", 'that', 'the', 'united'], [\"['<start>']\", 'that', 'the', 'bid'], [\"['<start>']\", 'that', 'the', 'nine']]\n",
            "CANDIDATE SEQUENCES:  [[\"['<start>']\", 'that', 'the', 'end', 'of'], [\"['<start>']\", 'that', 'the', 'bid', 'of'], [\"['<start>']\", 'that', 'the', 'king', 'of'], [\"['<start>']\", 'that', 'the', 'united', 'of'], [\"['<start>']\", 'that', 'the', 'nine', 'of']]\n",
            "CANDIDATE SEQUENCES:  [[\"['<start>']\", 'that', 'the', 'king', 'of', 'the'], [\"['<start>']\", 'that', 'the', 'king', 'of', 'regulation'], [\"['<start>']\", 'that', 'the', 'king', 'of', 'england'], [\"['<start>']\", 'that', 'the', 'king', 'of', 'regulatory'], [\"['<start>']\", 'that', 'the', 'king', 'of', 'production']]\n",
            "CANDIDATE SEQUENCES:  [[\"['<start>']\", 'that', 'the', 'king', 'of', 'regulation', 'we'], [\"['<start>']\", 'that', 'the', 'king', 'of', 'regulatory', 'we'], [\"['<start>']\", 'that', 'the', 'king', 'of', 'england', 'we'], [\"['<start>']\", 'that', 'the', 'king', 'of', 'production', 'we'], [\"['<start>']\", 'that', 'the', 'king', 'of', 'the', 'we']]\n",
            "CANDIDATE SEQUENCES:  [[\"['<start>']\", 'that', 'the', 'king', 'of', 'the', 'we', 'want'], [\"['<start>']\", 'that', 'the', 'king', 'of', 'regulation', 'we', 'want'], [\"['<start>']\", 'that', 'the', 'king', 'of', 'england', 'we', 'want'], [\"['<start>']\", 'that', 'the', 'king', 'of', 'regulatory', 'we', 'want'], [\"['<start>']\", 'that', 'the', 'king', 'of', 'production', 'we', 'want']]\n",
            "CANDIDATE SEQUENCES:  [[\"['<start>']\", 'that', 'the', 'king', 'of', 'regulation', 'we', 'want', '.'], [\"['<start>']\", 'that', 'the', 'king', 'of', 'regulatory', 'we', 'want', '.'], [\"['<start>']\", 'that', 'the', 'king', 'of', 'england', 'we', 'want', '.'], [\"['<start>']\", 'that', 'the', 'king', 'of', 'production', 'we', 'want', '.'], [\"['<start>']\", 'that', 'the', 'king', 'of', 'the', 'we', 'want', '.']]\n",
            "CANDIDATE SEQUENCES:  [[\"['<start>']\", 'that', 'the', 'king', 'of', 'regulation', 'we', 'want', '.', '\"'], [\"['<start>']\", 'that', 'the', 'king', 'of', 'regulatory', 'we', 'want', '.', '\"'], [\"['<start>']\", 'that', 'the', 'king', 'of', 'england', 'we', 'want', '.', '\"'], [\"['<start>']\", 'that', 'the', 'king', 'of', 'production', 'we', 'want', '.', '\"'], [\"['<start>']\", 'that', 'the', 'king', 'of', 'the', 'we', 'want', '.', '\"']]\n",
            "CANDIDATE SEQUENCES:  [[\"['<start>']\", '\"'], [\"['<start>']\", 'the'], [\"['<start>']\", 'it'], [\"['<start>']\", 'he'], [\"['<start>']\", 'in']]\n",
            "CANDIDATE SEQUENCES:  [[\"['<start>']\", '\"', 'we'], [\"['<start>']\", 'he', 'we'], [\"['<start>']\", 'it', 'we'], [\"['<start>']\", 'in', 'we'], [\"['<start>']\", 'the', 'we']]\n",
            "CANDIDATE SEQUENCES:  [[\"['<start>']\", '\"', 'we', \"don't\"], [\"['<start>']\", 'the', 'we', \"don't\"], [\"['<start>']\", 'he', 'we', \"don't\"], [\"['<start>']\", 'it', 'we', \"don't\"], [\"['<start>']\", 'in', 'we', \"don't\"]]\n",
            "CANDIDATE SEQUENCES:  [[\"['<start>']\", '\"', 'we', \"don't\", 'want'], [\"['<start>']\", '\"', 'we', \"don't\", 'went'], [\"['<start>']\", '\"', 'we', \"don't\", 'wait'], [\"['<start>']\", '\"', 'we', \"don't\", 'wanted'], [\"['<start>']\", 'he', 'we', \"don't\", 'want']]\n",
            "CANDIDATE SEQUENCES:  [[\"['<start>']\", '\"', 'we', \"don't\", 'want', 'to'], [\"['<start>']\", '\"', 'we', \"don't\", 'wanted', 'to'], [\"['<start>']\", '\"', 'we', \"don't\", 'went', 'to'], [\"['<start>']\", '\"', 'we', \"don't\", 'wait', 'to'], [\"['<start>']\", '\"', 'we', \"don't\", 'wait', 'too']]\n",
            "CANDIDATE SEQUENCES:  [[\"['<start>']\", '\"', 'we', \"don't\", 'want', 'to', 'make'], [\"['<start>']\", '\"', 'we', \"don't\", 'want', 'to', 'be'], [\"['<start>']\", '\"', 'we', \"don't\", 'want', 'to', 'take'], [\"['<start>']\", '\"', 'we', \"don't\", 'want', 'to', 'have'], [\"['<start>']\", '\"', 'we', \"don't\", 'want', 'to', 'the']]\n",
            "CANDIDATE SEQUENCES:  [[\"['<start>']\", '\"', 'we', \"don't\", 'want', 'to', 'have', 'been'], [\"['<start>']\", '\"', 'we', \"don't\", 'want', 'to', 'make', 'a'], [\"['<start>']\", '\"', 'we', \"don't\", 'want', 'to', 'have', 'to'], [\"['<start>']\", '\"', 'we', \"don't\", 'want', 'to', 'take', 'a'], [\"['<start>']\", '\"', 'we', \"don't\", 'want', 'to', 'have', 'a']]\n",
            "CANDIDATE SEQUENCES:  [[\"['<start>']\", '\"', 'we', \"don't\", 'want', 'to', 'make', 'a', '.'], [\"['<start>']\", '\"', 'we', \"don't\", 'want', 'to', 'take', 'a', '.'], [\"['<start>']\", '\"', 'we', \"don't\", 'want', 'to', 'have', 'a', '.'], [\"['<start>']\", '\"', 'we', \"don't\", 'want', 'to', 'have', 'been', '.'], [\"['<start>']\", '\"', 'we', \"don't\", 'want', 'to', 'have', 'to', '.']]\n",
            "CANDIDATE SEQUENCES:  [[\"['<start>']\", 'suppliers'], [\"['<start>']\", 'earlier'], [\"['<start>']\", 'the'], [\"['<start>']\", 'sales'], [\"['<start>']\", 'under']]\n",
            "CANDIDATE SEQUENCES:  [[\"['<start>']\", 'earlier', 'and'], [\"['<start>']\", 'sales', 'and'], [\"['<start>']\", 'suppliers', 'and'], [\"['<start>']\", 'under', 'and'], [\"['<start>']\", 'the', 'and']]\n",
            "CANDIDATE SEQUENCES:  [[\"['<start>']\", 'suppliers', 'and', 'union'], [\"['<start>']\", 'suppliers', 'and', 'loan'], [\"['<start>']\", 'suppliers', 'and', 'remain'], [\"['<start>']\", 'suppliers', 'and', 'move'], [\"['<start>']\", 'suppliers', 'and', 'not']]\n",
            "CANDIDATE SEQUENCES:  [[\"['<start>']\", 'suppliers', 'and', 'remain', 'quotas'], [\"['<start>']\", 'suppliers', 'and', 'move', 'quotas'], [\"['<start>']\", 'suppliers', 'and', 'loan', 'quotas'], [\"['<start>']\", 'suppliers', 'and', 'union', 'quotas'], [\"['<start>']\", 'suppliers', 'and', 'not', 'quotas']]\n",
            "CANDIDATE SEQUENCES:  [[\"['<start>']\", 'suppliers', 'and', 'union', 'quotas', 'on'], [\"['<start>']\", 'suppliers', 'and', 'loan', 'quotas', 'on'], [\"['<start>']\", 'suppliers', 'and', 'remain', 'quotas', 'on'], [\"['<start>']\", 'suppliers', 'and', 'move', 'quotas', 'on'], [\"['<start>']\", 'suppliers', 'and', 'not', 'quotas', 'on']]\n",
            "CANDIDATE SEQUENCES:  [[\"['<start>']\", 'suppliers', 'and', 'union', 'quotas', 'on', 'u'], [\"['<start>']\", 'suppliers', 'and', 'remain', 'quotas', 'on', 'u'], [\"['<start>']\", 'suppliers', 'and', 'loan', 'quotas', 'on', 'u'], [\"['<start>']\", 'suppliers', 'and', 'move', 'quotas', 'on', 'u'], [\"['<start>']\", 'suppliers', 'and', 'not', 'quotas', 'on', 'u']]\n",
            "CANDIDATE SEQUENCES:  [[\"['<start>']\", 'suppliers', 'and', 'union', 'quotas', 'on', 'u', '.'], [\"['<start>']\", 'suppliers', 'and', 'remain', 'quotas', 'on', 'u', '.'], [\"['<start>']\", 'suppliers', 'and', 'loan', 'quotas', 'on', 'u', '.'], [\"['<start>']\", 'suppliers', 'and', 'move', 'quotas', 'on', 'u', '.'], [\"['<start>']\", 'suppliers', 'and', 'not', 'quotas', 'on', 'u', '.']]\n",
            "CANDIDATE SEQUENCES:  [[\"['<start>']\", 'suppliers', 'and', 'union', 'quotas', 'on', 'u', '.', 's'], [\"['<start>']\", 'suppliers', 'and', 'remain', 'quotas', 'on', 'u', '.', 's'], [\"['<start>']\", 'suppliers', 'and', 'loan', 'quotas', 'on', 'u', '.', 's'], [\"['<start>']\", 'suppliers', 'and', 'move', 'quotas', 'on', 'u', '.', 's'], [\"['<start>']\", 'suppliers', 'and', 'not', 'quotas', 'on', 'u', '.', 's']]\n",
            "CANDIDATE SEQUENCES:  [[\"['<start>']\", 'suppliers', 'and', 'union', 'quotas', 'on', 'u', '.', 's', '.'], [\"['<start>']\", 'suppliers', 'and', 'remain', 'quotas', 'on', 'u', '.', 's', '.'], [\"['<start>']\", 'suppliers', 'and', 'loan', 'quotas', 'on', 'u', '.', 's', '.'], [\"['<start>']\", 'suppliers', 'and', 'move', 'quotas', 'on', 'u', '.', 's', '.'], [\"['<start>']\", 'suppliers', 'and', 'not', 'quotas', 'on', 'u', '.', 's', '.']]\n"
          ]
        }
      ]
    },
    {
      "cell_type": "code",
      "source": [
        "def list_sentence_to_string(sentence):\n",
        "    string_sentence = ''\n",
        "    for word in sentence:\n",
        "        string_sentence+=word + ' '\n",
        "    return string_sentence"
      ],
      "metadata": {
        "id": "wqF14-rI5pgr"
      },
      "execution_count": null,
      "outputs": []
    },
    {
      "cell_type": "code",
      "source": [
        "#transform lists to string in order to pass it as an input to the WER, CER functions\n",
        "for i in range(len(references)):\n",
        "  print(predictions[i], to_predict[i], references[i])\n",
        "  predictions[i] = list_sentence_to_string(predictions[i])\n",
        "  to_predict[i] = list_sentence_to_string(to_predict[i])\n",
        "  references[i] = list_sentence_to_string(references[i])"
      ],
      "metadata": {
        "id": "BiXoiJZPwHgs",
        "colab": {
          "base_uri": "https://localhost:8080/"
        },
        "outputId": "f15e2bac-7457-4600-fc08-5eaf31fe1dd0"
      },
      "execution_count": null,
      "outputs": [
        {
          "output_type": "stream",
          "name": "stdout",
          "text": [
            "['annual', 'ore', 'japan', 'will', 'be', 'about', '75', '(', ',', '(', '(', '(', 'tonnes', '.'] ['annual', 'ore', 'capacitc', 'will', 'be', 'aboug', '75(,(((', 'tonnes', '.'] ['annual', 'ore', 'capacity', 'will', 'be', 'about', '750,000', 'tonnes', '.']\n",
            "['the', 'analysts', 'agreed', 'the', 'bank', 'was', 'attractive', '.'] ['ahe', 'analysts', 'agreed', 'txe', 'bank', 'was', 'aggressive', '.'] ['the', 'analysts', 'agreed', 'the', 'bank', 'was', 'aggressive', '.']\n",
            "['that', 'the', 'king', 'of', 'regulation', 'we', 'want', '.', '\"'] [\"that's\", 'the', 'kind', 'of', 'deregulatuon', 'we', 'want', '.', '\"'] [\"that's\", 'the', 'kind', 'of', 'deregulation', 'we', 'want', '.', '\"']\n",
            "['\"', 'we', \"don't\", 'want', 'to', 'make', 'a', '.'] ['\"', 'we', \"don't\", 'want', 'to', 'mabe', '<UNK>', '.'] ['\"', 'we', \"don't\", 'want', 'to', 'make', '<UNK>', '.']\n",
            "['suppliers', 'and', 'union', 'quotas', 'on', 'u', '.', 's', '.'] ['suuuliers', 'and', 'rnmovn', 'quotas', 'on', 'u', '.', 's', '.'] ['suppliers', 'and', 'remove', 'quotas', 'on', 'u', '.', 's', '.']\n"
          ]
        }
      ]
    },
    {
      "cell_type": "code",
      "source": [
        "print('REFERENCES: ' , references)\n",
        "print('WRONGS: ' , to_predict)\n",
        "print('PREDICTIONS: ' , predictions)"
      ],
      "metadata": {
        "colab": {
          "base_uri": "https://localhost:8080/"
        },
        "id": "PoDY-eqD4FUj",
        "outputId": "2d2cfb73-8d6c-4e8f-8f66-7dec700853b7"
      },
      "execution_count": null,
      "outputs": [
        {
          "output_type": "stream",
          "name": "stdout",
          "text": [
            "REFERENCES:  ['annual ore capacity will be about 750,000 tonnes . ', 'the analysts agreed the bank was aggressive . ', 'that\\'s the kind of deregulation we want . \" ', '\" we don\\'t want to make <UNK> . ', 'suppliers and remove quotas on u . s . ']\n",
            "WRONGS:  ['annual ore capacitc will be aboug 75(,((( tonnes . ', 'ahe analysts agreed txe bank was aggressive . ', 'that\\'s the kind of deregulatuon we want . \" ', '\" we don\\'t want to mabe <UNK> . ', 'suuuliers and rnmovn quotas on u . s . ']\n",
            "PREDICTIONS:  ['annual ore japan will be about 75 ( , ( ( ( tonnes . ', 'the analysts agreed the bank was attractive . ', 'that the king of regulation we want . \" ', '\" we don\\'t want to make a . ', 'suppliers and union quotas on u . s . ']\n"
          ]
        }
      ]
    },
    {
      "cell_type": "code",
      "source": [
        "# compute the evaluation scores\n",
        "wer_score = wer.compute(predictions=predictions, references=references)\n",
        "cer_score = cer.compute(predictions=predictions, references=references)"
      ],
      "metadata": {
        "id": "ekLlZeMJluiw"
      },
      "execution_count": null,
      "outputs": []
    },
    {
      "cell_type": "code",
      "source": [
        "# And print them\n",
        "print(\"The WER score is: \" + \"{:.2f}\".format(wer_score))\n",
        "print(\"The CER score is: \" + \"{:.2f}\".format(cer_score))"
      ],
      "metadata": {
        "colab": {
          "base_uri": "https://localhost:8080/"
        },
        "id": "axUdqadslulS",
        "outputId": "b59503ec-5673-47f6-993a-83eac51bfa4c"
      },
      "execution_count": null,
      "outputs": [
        {
          "output_type": "stream",
          "name": "stdout",
          "text": [
            "The WER score is: 0.30\n",
            "The CER score is: 0.16\n"
          ]
        }
      ]
    }
  ]
}